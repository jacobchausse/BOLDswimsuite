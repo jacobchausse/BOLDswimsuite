{
 "cells": [
  {
   "cell_type": "markdown",
   "metadata": {},
   "source": [
    "# Lesson 5 - BOLDdeterministic\n",
    "\n",
    "The `BOLDdeterministic` module offers a deterministic approach to diffusion modelling. In a complete simulation, it replaces both the `Spins` and `Sequence` objects. To begin we first import the module as follows (and NumPy for array creation, matplotlib for plotting):"
   ]
  },
  {
   "cell_type": "code",
   "execution_count": null,
   "metadata": {},
   "outputs": [],
   "source": [
    "from BOLDswimsuite import BOLDgeometry, BOLDdeterministic\n",
    "import numpy as np\n",
    "import matplotlib.pyplot as plt"
   ]
  },
  {
   "cell_type": "markdown",
   "metadata": {},
   "source": [
    "Deterministic diffusion requires a discrete-space voxel. Rather than using Monte Carlo spins to provide the magnetic field offset samples, we use the points on a discrete grid (from the discrete voxel geometry). Unlike spins however, our samples do not diffuse through space over time, they remain on the grid. Instead, the diffusion is modelled by convolving the resulting magnetization (Mx, My) with a special kernel. In essence we are performing a no-diffusion simulation with the gridded samples, and then we apply a post processing step (kernel convolution) on the magnetization to simulate the effects of diffusion. Currently this method is implemented only for 2D geometry, so we will use that in the examples."
   ]
  },
  {
   "cell_type": "markdown",
   "metadata": {},
   "source": [
    "To get started, we once again start by creating a randomly generated 2D continuous voxel."
   ]
  },
  {
   "cell_type": "code",
   "execution_count": null,
   "metadata": {},
   "outputs": [],
   "source": [
    "random_continuous_voxel = BOLDgeometry.ContinuousVoxel2D.from_random(\n",
    "    size=0.2,\n",
    "    CBV=0.02,\n",
    "    B0=3,\n",
    "    labels=['vein', 'artery'],\n",
    "    weights={\n",
    "        'vein':1, \n",
    "        'artery':1\n",
    "    },\n",
    "    diameter_distributions={\n",
    "        'vein': [0.002, 0.003, 0.004], \n",
    "        'artery': [0.003, 0.004, 0.005]\n",
    "    },\n",
    "    dchis={\n",
    "        'vein': 3e-8,\n",
    "        'artery': 4e-8\n",
    "    },\n",
    "    permeation_probabilities={\n",
    "        'vein': 0, \n",
    "        'artery': 0\n",
    "    },\n",
    "    vessel_type='cylinder',\n",
    "    allow_vessel_intersection=True,\n",
    "    seed=0, #repeating with the same seed with provide the same result\n",
    "    progressbar=True\n",
    ")\n",
    "\n",
    "print(f'Number of vessels: {len(random_continuous_voxel.vessels)}')"
   ]
  },
  {
   "cell_type": "markdown",
   "metadata": {},
   "source": [
    "Since deterministic diffusion requires a discrete voxel, we will now convert the continuous voxel to a discrete voxel using the `from_continuous_analytical` alternate constructor of `DiscreteVoxel2D`."
   ]
  },
  {
   "cell_type": "code",
   "execution_count": null,
   "metadata": {},
   "outputs": [],
   "source": [
    "discrete_voxel = BOLDgeometry.DiscreteVoxel2D.from_continuous_analytical(\n",
    "    N=200,\n",
    "    voxel=random_continuous_voxel\n",
    ")"
   ]
  },
  {
   "cell_type": "markdown",
   "metadata": {},
   "source": [
    "We now create a `DeterministicDiffuser2D` object. This object replaces both the `Spins` and `Sequence` objects we were previously using. Many of the arguments we have seen before, and they serve the same purpose (i.e. defining the diffusion length and the pulse sequence). There are two new arguments to define for this object.\n",
    "- kernel_type : Literal['ModifiedBessel', 'Gaussian'], the type of convolution kernel to use. Default is 'ModifiedBessel'.\n",
    "- permeable_vessels : bool, if False, will use a correction method to stop diffusion across vessel walls. Otherwise vessels will be permeable. Default is False.\n",
    "\n",
    "The kernel type can remain unchanged, as the modified Bessel function kernel is more accurate. Unlike our simulations with `Spins`, deterministic diffusion does not take in account the permeation probabilities we input in the geometry. This is because vessel permeability has not yet been implemented on a per-vessel basis. We are also unable to assign a probability, we can only choose permeable or impermeable vessels. This is why the `permeable_vessels` argument is necessary, it will therefore overwrite any previously assigned permeation probabilities."
   ]
  },
  {
   "cell_type": "code",
   "execution_count": null,
   "metadata": {},
   "outputs": [],
   "source": [
    "dt=0.2 #we will use a constant 0.2ms time step\n",
    "\n",
    "dd2d = BOLDdeterministic.DeterministicDiffuser2D(\n",
    "    geometry=discrete_voxel,\n",
    "    pulse_time_indices=[0, 50],                     #[0ms       , 10ms]\n",
    "    pulse_angles=[np.pi/2, np.pi],                  #[90 degrees, 180 degrees]\n",
    "    pulse_axes=[[np.pi/2, np.pi/2], [np.pi/2, 0]],  #[y-axis    , x-axis]\n",
    "    ADC=0.001,\n",
    "    dt=dt,\n",
    "    kernel_type='ModifiedBessel',\n",
    "    permeable_vessels=False\n",
    ")"
   ]
  },
  {
   "cell_type": "markdown",
   "metadata": {},
   "source": [
    "We see that the deterministic diffuser prints out the kernel size. This is important as we need the kernel size to be at least larger than 3 (ideally upwards of 10). If the kernel is too small there will be a warning. The kernel size is increased either by increasing `N` during voxel creation, or by increasing the `ADC` (which is not usually desired)."
   ]
  },
  {
   "cell_type": "markdown",
   "metadata": {},
   "source": [
    "Much like the `Sequence` object, we can now call `step` or `walk` on our `DeterministicDiffuser2D` to advance the simulation and obtain the signals. Here we will just use the `walk` method for convenience."
   ]
  },
  {
   "cell_type": "code",
   "execution_count": null,
   "metadata": {},
   "outputs": [],
   "source": [
    "num_steps = 200 # 200*0.2ms = 40ms\n",
    "\n",
    "eviv, ev, iv = dd2d.walk(\n",
    "    dt=dt,\n",
    "    num_steps=num_steps,\n",
    "    progressbar=True    \n",
    ")"
   ]
  },
  {
   "cell_type": "markdown",
   "metadata": {},
   "source": [
    "Now we can plot the signals using matplotlib."
   ]
  },
  {
   "cell_type": "code",
   "execution_count": null,
   "metadata": {},
   "outputs": [],
   "source": [
    "# array of the time range\n",
    "time_range = np.arange(0, dt*num_steps, dt)\n",
    "\n",
    "# creating a matplotlib figure\n",
    "figure, (ax1,ax2,ax3) = plt.subplots(nrows=1, ncols=3, figsize=(15,5))\n",
    "\n",
    "# plotting all three signals with some formatting\n",
    "ax1.plot(time_range, eviv)\n",
    "ax1.set_title('Total')\n",
    "ax1.set_xlabel('Time (ms)')\n",
    "ax1.set_ylabel('Signal')\n",
    "\n",
    "ax2.plot(time_range, ev)\n",
    "ax2.set_title('EV')\n",
    "ax2.set_xlabel('Time (ms)')\n",
    "\n",
    "ax3.plot(time_range, iv)\n",
    "ax3.set_title('IV')\n",
    "ax3.set_xlabel('Time (ms)')\n",
    "\n",
    "figure.tight_layout()"
   ]
  },
  {
   "cell_type": "markdown",
   "metadata": {},
   "source": [
    "This completes the basic lessons for BOLDswimsuite! There are some example scripts of common simulations in the examples folder which can be used as reference:\n",
    "- `3D-ANA-MC_script.py`: Monte Carlo diffusion simulation of a randomly generated 3D continuous voxel.\n",
    "\n",
    "- `3D-ANA-MC-G_script.py`: Monte Carlo diffusion simulation of a randomly generated 3D discrete voxel with analytical offset calculation.\n",
    "\n",
    "- `3D-FFT-MC_script.py`: Monte Carlo diffusion simulation of a randomly generated 3D discrete voxel with FFT offset calculation.\n",
    "\n",
    "- `2D-ANA-DD_script.py`: deterministic diffusion simulation of a randomly generated 2D discrete voxel.\n",
    "\n",
    "- `2D-ANA-MC_script.py`: Monte Carlo diffusion simulation of a randomly generated 2D continuous voxel.\n",
    "\n",
    "- `2D-ANA-MC-G_script.py`: Monte Carlo diffusion simulation of a randomly generated 2D discrete voxel with analytical offset calculation.\n"
   ]
  }
 ],
 "metadata": {
  "kernelspec": {
   "display_name": ".venv",
   "language": "python",
   "name": "python3"
  },
  "language_info": {
   "codemirror_mode": {
    "name": "ipython",
    "version": 3
   },
   "file_extension": ".py",
   "mimetype": "text/x-python",
   "name": "python",
   "nbconvert_exporter": "python",
   "pygments_lexer": "ipython3",
   "version": "3.10.4"
  },
  "orig_nbformat": 4
 },
 "nbformat": 4,
 "nbformat_minor": 2
}
