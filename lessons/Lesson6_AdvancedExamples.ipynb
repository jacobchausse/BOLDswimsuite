{
 "cells": [
  {
   "cell_type": "markdown",
   "metadata": {},
   "source": [
    "# Lesson 6 - Advanced Examples\n",
    "\n",
    "This lesson presents some non-standard uses of the package. To begin we first import the module as follows (and NumPy for array creation, matplotlib for plotting)"
   ]
  },
  {
   "cell_type": "code",
   "execution_count": null,
   "metadata": {},
   "outputs": [],
   "source": [
    "from boldswimsuite import BOLDgeometry, BOLDspins, BOLDsequence\n",
    "import numpy as np\n",
    "import matplotlib.pyplot as plt\n",
    "from tqdm import tqdm # for progress bars"
   ]
  },
  {
   "cell_type": "markdown",
   "metadata": {},
   "source": [
    "The topics covered in this lesson are the following:\n",
    "\n",
    "1. Saving/loading discrete voxels and continuous voxels\n",
    "2. Applying Multiple Sequences to a Single Simulation\n",
    "3. Adding a Constant Magnetic Field Offset to the Spins at Runtime (Gradient Field Offset example)"
   ]
  },
  {
   "cell_type": "markdown",
   "metadata": {},
   "source": [
    "## 1. Saving/loading discrete voxels and continuous voxels\n",
    "\n",
    "All voxels can be saved to a file and later loaded to run simulations. Continuous space voxels are saved using the Pickle package so the file extension is `.pkl`. Discrete space voxels are saved using NumPy's `savez` function so the file extension is `.npz`. In both cases, the voxel's `save` method is used to save the voxel to file and the `load` class method is used to load the voxel from the file.\n",
    "\n",
    "> Note: Discrete voxels can require a lot of memory, especially with a high subvoxel count (N). This means that the save file for the voxel will also require quite a bit of storage space. Continuous voxel are analytically defined so their save files are much more light weight.\n",
    "\n",
    "This lesson shows how to save and load a `ContinuousVoxel3D`, but the 'examples' folder contains example scripts for each kind of voxel:\n",
    "- `saveload_ContinuousVoxel3D.py`\n",
    "\n",
    "- `saveload_ContinuousVoxel2D.py`\n",
    "\n",
    "- `saveload_DiscreteVoxel3D.py`\n",
    "\n",
    "- `saveload_DiscreteVoxel2D.py`"
   ]
  },
  {
   "cell_type": "markdown",
   "metadata": {},
   "source": [
    "First we randomly create a 3D continuous voxel:"
   ]
  },
  {
   "cell_type": "code",
   "execution_count": null,
   "metadata": {},
   "outputs": [],
   "source": [
    "random_continuous_voxel = BOLDgeometry.ContinuousVoxel3D.from_random(\n",
    "    size=0.2,\n",
    "    CBV=0.02,\n",
    "    B0=3,\n",
    "    labels=['vein', 'artery'],\n",
    "    weights={\n",
    "        'vein':1, \n",
    "        'artery':1\n",
    "    },\n",
    "    diameter_distributions={\n",
    "        'vein': [0.002, 0.003, 0.004], \n",
    "        'artery': [0.003, 0.004, 0.005]\n",
    "    },\n",
    "    dchis={\n",
    "        'vein': 3e-8,\n",
    "        'artery': 4e-8\n",
    "    },\n",
    "    permeation_probabilities={\n",
    "        'vein': 0, \n",
    "        'artery': 0\n",
    "    },\n",
    "    vessel_type='cylinder',\n",
    "    allow_vessel_intersection=True,\n",
    "    seed=0, #repeating with the same seed with provide the same result\n",
    "    progressbar=True\n",
    ")\n"
   ]
  },
  {
   "cell_type": "markdown",
   "metadata": {},
   "source": [
    "Now we create a string with the file path that we want to save the voxel to, and use the `save` method to save the voxel to file."
   ]
  },
  {
   "cell_type": "code",
   "execution_count": null,
   "metadata": {},
   "outputs": [],
   "source": [
    "filepath = r'random_ContinuousVoxel3D.pkl' #.pkl extension as this is a continuous voxel\n",
    "\n",
    "random_continuous_voxel.save(filepath)"
   ]
  },
  {
   "cell_type": "markdown",
   "metadata": {},
   "source": [
    "To load the voxel, we use the `load` method of the specific voxel object:"
   ]
  },
  {
   "cell_type": "code",
   "execution_count": null,
   "metadata": {},
   "outputs": [],
   "source": [
    "loaded_voxel = BOLDgeometry.ContinuousVoxel3D.load(filepath)"
   ]
  },
  {
   "cell_type": "markdown",
   "metadata": {},
   "source": [
    "We can now visualize the voxel to show that it has loaded properly:"
   ]
  },
  {
   "cell_type": "code",
   "execution_count": null,
   "metadata": {},
   "outputs": [],
   "source": [
    "loaded_voxel.show()"
   ]
  },
  {
   "cell_type": "markdown",
   "metadata": {},
   "source": [
    "## 2. Applying Multiple Sequences to a Single Simulation\n",
    "\n",
    "One can apply multiple sequences to the same simulation. This can be useful in cases where different sequences are desired for the same spins and geometry parameters. Rather than performing 2 separate simulations we can use the same simulation but with multiple sequences, which is significantly more efficient. This method only works for Monte Carlo simulations using `Spins`.\n",
    "\n",
    "To show how to do this, we start by creating a continuous voxel and a `Spins` object."
   ]
  },
  {
   "cell_type": "code",
   "execution_count": null,
   "metadata": {},
   "outputs": [],
   "source": [
    "random_continuous_voxel = BOLDgeometry.ContinuousVoxel3D.from_random(\n",
    "    size=0.2,\n",
    "    CBV=0.02,\n",
    "    B0=3,\n",
    "    labels=['vein', 'artery'],\n",
    "    weights={\n",
    "        'vein':1, \n",
    "        'artery':1\n",
    "    },\n",
    "    diameter_distributions={\n",
    "        'vein': [0.002, 0.003, 0.004], \n",
    "        'artery': [0.003, 0.004, 0.005]\n",
    "    },\n",
    "    dchis={\n",
    "        'vein': 3e-8,\n",
    "        'artery': 4e-8\n",
    "    },\n",
    "    permeation_probabilities={\n",
    "        'vein': 0, \n",
    "        'artery': 0\n",
    "    },\n",
    "    vessel_type='cylinder',\n",
    "    allow_vessel_intersection=True,\n",
    "    seed=0, #repeating with the same seed with provide the same result\n",
    "    progressbar=True\n",
    ")\n",
    "\n",
    "print(random_continuous_voxel)"
   ]
  },
  {
   "cell_type": "code",
   "execution_count": null,
   "metadata": {},
   "outputs": [],
   "source": [
    "num_spins = 10_000\n",
    "dt=0.2 #we will use a constant 0.2ms time step\n",
    "\n",
    "spins = BOLDspins.Spins3D(\n",
    "    ADC=0.001,\n",
    "    num_spins=num_spins,\n",
    "    geometry=random_continuous_voxel,\n",
    "    dt=dt,\n",
    "    IV=True,\n",
    "    seed=0 #repeating with the same seed with provide the same result\n",
    ")"
   ]
  },
  {
   "cell_type": "markdown",
   "metadata": {},
   "source": [
    "Now we cannot use the `SpinSequence` object to handle the sequence. This is because its `step` and `walk` methods also advances the `Spins`. We instead need to manually advance the `Spins` and then use its data to advance each sequence. To do this we use the `Sequence` object, which was shown in lesson 4."
   ]
  },
  {
   "cell_type": "code",
   "execution_count": null,
   "metadata": {},
   "outputs": [],
   "source": [
    "sequence1 = BOLDsequence.Sequence(\n",
    "    sample_shape=spins.num_spins,\n",
    "    pulse_time_indices=[0, 25],         #[0ms       , 5ms]\n",
    "    pulse_angles=[np.pi/2, np.pi],      #[90 degrees, 180 degrees]\n",
    "    pulse_axes=['y', 'x']               #[y-axis    , x-axis]\n",
    ")\n",
    "\n",
    "sequence2 = BOLDsequence.Sequence(\n",
    "    sample_shape=spins.num_spins,\n",
    "    pulse_time_indices=[0, 75],         #[0ms       , 15ms]\n",
    "    pulse_angles=[np.pi/2, np.pi],      #[90 degrees, 180 degrees]\n",
    "    pulse_axes=['y', 'x']               #[y-axis    , x-axis]\n",
    ")"
   ]
  },
  {
   "cell_type": "markdown",
   "metadata": {},
   "source": [
    "We now manually loop through the time steps and apply both sequences. Notice that we manually step through the `Spins`, since the `Sequence` object does not do it for us (unlike the `SpinSequence` object)."
   ]
  },
  {
   "cell_type": "code",
   "execution_count": null,
   "metadata": {},
   "outputs": [],
   "source": [
    "num_steps = 200 # 200*0.2ms = 40ms\n",
    "\n",
    "# signals for sequence 1\n",
    "eviv1 = np.zeros(num_steps)\n",
    "ev1 = np.zeros(num_steps)\n",
    "iv1 = np.zeros(num_steps)\n",
    "\n",
    "# signals for sequence 2\n",
    "eviv2 = np.zeros(num_steps)\n",
    "ev2 = np.zeros(num_steps)\n",
    "iv2 = np.zeros(num_steps)\n",
    "\n",
    "for j in tqdm(range(num_steps)): # use just `for i in range(num_steps)` to remove the progress bar  \n",
    "    \n",
    "    #step through the spins object\n",
    "    spins.step(dt=dt)\n",
    "\n",
    "    #collect spins state\n",
    "    phase, vessel_indices, dt = spins.get_phase_vessel_indices_dt()\n",
    "\n",
    "    #important step! Spins are intravascular only where vessel_indices is non-zero.\n",
    "    is_IV = vessel_indices > 0\n",
    "    \n",
    "    #step through sequence 1 and save signals\n",
    "    sequence1.step(phase=phase, is_IV=is_IV)\n",
    "    eviv1[j], ev1[j], iv1[j] = sequence1.get_signals(cplx=False)\n",
    "\n",
    "    #step through sequence 2 and save signals\n",
    "    sequence2.step(phase=phase, is_IV=is_IV)\n",
    "    eviv2[j], ev2[j], iv2[j] = sequence2.get_signals(cplx=False)"
   ]
  },
  {
   "cell_type": "markdown",
   "metadata": {},
   "source": [
    "We can now plot both signals."
   ]
  },
  {
   "cell_type": "code",
   "execution_count": null,
   "metadata": {},
   "outputs": [],
   "source": [
    "# array of the time range\n",
    "time_range = np.arange(0, dt*num_steps, dt)\n",
    "\n",
    "# creating a matplotlib figure\n",
    "figure, (ax1,ax2,ax3) = plt.subplots(nrows=1, ncols=3, figsize=(15,5))\n",
    "\n",
    "# plotting all three signals with some formatting\n",
    "ax1.plot(time_range, eviv1)\n",
    "ax1.plot(time_range, eviv2)\n",
    "ax1.set_title('Total')\n",
    "ax1.set_xlabel('Time (ms)')\n",
    "ax1.set_ylabel('Signal')\n",
    "\n",
    "ax2.plot(time_range, ev1)\n",
    "ax2.plot(time_range, ev2)\n",
    "ax2.set_title('EV')\n",
    "ax2.set_xlabel('Time (ms)')\n",
    "\n",
    "ax3.plot(time_range, iv1)\n",
    "ax3.plot(time_range, iv2)\n",
    "ax3.set_title('IV')\n",
    "ax3.set_xlabel('Time (ms)')\n",
    "\n",
    "ax1.legend(['Sequence 1', 'Sequence 2'])\n",
    "\n",
    "figure.tight_layout()"
   ]
  },
  {
   "cell_type": "markdown",
   "metadata": {},
   "source": [
    "Notice that we could also save the `Spins` state at each time step to arrays, and then apply whatever sequence we want to that data later on. This is more memory demanding, since we save the `Spins` state at all time steps (whereas normally we discard the state at every step and only keep the signals). However this can be a good option if we want to save the simulation to file and be able to apply any sequence later on.\n",
    "\n",
    "To do this we start by creating a new `Spins` object to run the simulation on."
   ]
  },
  {
   "cell_type": "code",
   "execution_count": null,
   "metadata": {},
   "outputs": [],
   "source": [
    "num_spins = 10_000\n",
    "dt=0.2 #we will use a constant 0.2ms time step\n",
    "\n",
    "spins = BOLDspins.Spins3D(\n",
    "    ADC=0.001,\n",
    "    num_spins=num_spins,\n",
    "    geometry=random_continuous_voxel,\n",
    "    dt=dt,\n",
    "    IV=True,\n",
    "    seed=0 #repeating with the same seed with provide the same result\n",
    ")"
   ]
  },
  {
   "cell_type": "markdown",
   "metadata": {},
   "source": [
    "Now we step through the simulation, but this time rather than having arrays to save each signal to, we instead create arrays to save the `Spins` state to."
   ]
  },
  {
   "cell_type": "code",
   "execution_count": null,
   "metadata": {},
   "outputs": [],
   "source": [
    "num_steps = 200 # 200*0.2ms = 40ms\n",
    "\n",
    "phase_array = np.empty((num_steps, num_spins))\n",
    "is_IV_array = np.empty((num_steps, num_spins), dtype=bool) #make sure this is set to bool dtype, otherwise this will default to float which is incorrect!\n",
    "dt_array = np.empty(num_steps)\n",
    "\n",
    "for j in tqdm(range(num_steps)): # use just `for i in range(num_steps)` to remove the progress bar  \n",
    "    \n",
    "    #step through the spins object\n",
    "    spins.step(dt=dt)\n",
    "\n",
    "    #collect spins state\n",
    "    phase, vessel_indices, dt = spins.get_phase_vessel_indices_dt()\n",
    "\n",
    "    #important step! Spins are intravascular only where vessel_indices is non-zero.\n",
    "    is_IV = vessel_indices > 0\n",
    "\n",
    "    phase_array[j, :] = phase\n",
    "    is_IV_array[j, :] = is_IV\n",
    "    dt_array[j] = dt"
   ]
  },
  {
   "cell_type": "markdown",
   "metadata": {},
   "source": [
    "At this point we could save these three arrays to file using a function like `np.savez` and later on load that data (with `np.load` for example) into a different script that would apply the sequence(s). Here we will pretend this has already been done and we will simply show how to apply the sequences once the simulation data has been loaded in. We create a new sequence to show this (we could also have multiple sequences).\n",
    "\n",
    "Let's say we don't remember the number of simulations steps or the number of spins. However, we know that `phase_array` has shape `(num_steps, num_spins)`, so we will recover this information into variables. We will need this information during the creation of the `Sequence` object and to step through it."
   ]
  },
  {
   "cell_type": "code",
   "execution_count": null,
   "metadata": {},
   "outputs": [],
   "source": [
    "num_steps, num_spins = phase_array.shape\n",
    "\n",
    "sequence = BOLDsequence.Sequence(\n",
    "    sample_shape=num_spins,\n",
    "    pulse_time_indices=[0, 50],         #[0ms       , 10ms]\n",
    "    pulse_angles=[np.pi/2, np.pi],      #[90 degrees, 180 degrees]\n",
    "    pulse_axes=['y', 'x']               #[y-axis    , x-axis]\n",
    ")"
   ]
  },
  {
   "cell_type": "markdown",
   "metadata": {},
   "source": [
    "We now step through the sequence, but instead of getting the `Spins` state from the object, we take it from the saved simulation data."
   ]
  },
  {
   "cell_type": "code",
   "execution_count": null,
   "metadata": {},
   "outputs": [],
   "source": [
    "# signal arrays\n",
    "eviv = np.zeros(num_steps)\n",
    "ev = np.zeros(num_steps)\n",
    "iv = np.zeros(num_steps)\n",
    "\n",
    "for j in tqdm(range(num_steps)): # use just `for i in range(num_steps)` to remove the progress bar  \n",
    "    \n",
    "    #get the phase and is_IV data from the saved arrays\n",
    "    phase = phase_array[j]\n",
    "    is_IV = is_IV_array[j]\n",
    "    \n",
    "    #step through sequence 1 and save signals\n",
    "    sequence.step(phase=phase, is_IV=is_IV)\n",
    "    eviv[j], ev[j], iv[j] = sequence.get_signals(cplx=False)"
   ]
  },
  {
   "cell_type": "markdown",
   "metadata": {},
   "source": [
    "And we plot to check if the simulation worked as expected."
   ]
  },
  {
   "cell_type": "code",
   "execution_count": null,
   "metadata": {},
   "outputs": [],
   "source": [
    "# array of the time range\n",
    "time_range = np.arange(0, dt*num_steps, dt)\n",
    "\n",
    "# creating a matplotlib figure\n",
    "figure, (ax1,ax2,ax3) = plt.subplots(nrows=1, ncols=3, figsize=(15,5))\n",
    "\n",
    "# plotting all three signals with some formatting\n",
    "ax1.plot(time_range, eviv)\n",
    "ax1.set_title('Total')\n",
    "ax1.set_xlabel('Time (ms)')\n",
    "ax1.set_ylabel('Signal')\n",
    "\n",
    "ax2.plot(time_range, ev)\n",
    "ax2.set_title('EV')\n",
    "ax2.set_xlabel('Time (ms)')\n",
    "\n",
    "ax3.plot(time_range, iv)\n",
    "ax3.set_title('IV')\n",
    "ax3.set_xlabel('Time (ms)')\n",
    "\n",
    "figure.tight_layout()"
   ]
  },
  {
   "cell_type": "markdown",
   "metadata": {},
   "source": [
    "## 3. Adding a Constant Magnetic Field Offset to the Spins at Runtime (Gradient Field Offset example)\n",
    "\n",
    "Although gradient offsets are not currently implemented for voxels, they can be added to the spins at simulation runtime.\n",
    "\n",
    "We first set up our simulation with the voxel, spins and sequence. We will once again use the `Sequence` object which will allow us to \"fix\" the spins' offset. We initially omit the gradient."
   ]
  },
  {
   "cell_type": "code",
   "execution_count": null,
   "metadata": {},
   "outputs": [],
   "source": [
    "random_continuous_voxel = BOLDgeometry.ContinuousVoxel3D.from_random(\n",
    "    size=0.2,\n",
    "    CBV=0.02,\n",
    "    B0=3,\n",
    "    labels=['vein', 'artery'],\n",
    "    weights={\n",
    "        'vein':1, \n",
    "        'artery':1\n",
    "    },\n",
    "    diameter_distributions={\n",
    "        'vein': [0.002, 0.003, 0.004], \n",
    "        'artery': [0.003, 0.004, 0.005]\n",
    "    },\n",
    "    dchis={\n",
    "        'vein': 3e-8,\n",
    "        'artery': 4e-8\n",
    "    },\n",
    "    permeation_probabilities={\n",
    "        'vein': 0, \n",
    "        'artery': 0\n",
    "    },\n",
    "    vessel_type='cylinder',\n",
    "    allow_vessel_intersection=True,\n",
    "    seed=0, #repeating with the same seed with provide the same result\n",
    "    progressbar=True\n",
    ")\n",
    "\n",
    "print(random_continuous_voxel)\n",
    "\n",
    "num_spins = 10_000\n",
    "dt=0.2 #we will use a constant 0.2ms time step\n",
    "\n",
    "spins = BOLDspins.Spins3D(\n",
    "    ADC=0.001,\n",
    "    num_spins=num_spins,\n",
    "    geometry=random_continuous_voxel,\n",
    "    dt=dt,\n",
    "    IV=True,\n",
    "    seed=0 #repeating with the same seed with provide the same result\n",
    ")\n",
    "\n",
    "sequence = BOLDsequence.Sequence(\n",
    "    sample_shape=num_spins,\n",
    "    pulse_time_indices=[0, 50],                     #[0ms       , 10ms]\n",
    "    pulse_angles=[np.pi/2, np.pi],                  #[90 degrees, 180 degrees]\n",
    "    pulse_axes=[[np.pi/2, np.pi/2], [np.pi/2, 0]]   #[y-axis    , x-axis]\n",
    ")"
   ]
  },
  {
   "cell_type": "markdown",
   "metadata": {},
   "source": [
    "We now define our gradient, based on the positions of spins. We will make a gradient in the x-direction that will start at $0 T$ and ramps up at $5\\cdot 10^{-7} T/mm$.\n",
    "\n",
    "We create a function that will take the spin positions and return the phase offset from the gradient for each position. Note that this approach would also work to add any constant magnetic field offset that can be represented as a function of position $f(x,y,z)$. In our case the gradient is only dependent on the x-position.\n",
    "\n",
    "For implementation, we recall the following:\n",
    "- `positions` is a (N, d) array of values, where N is the number of positions and d is the number of dimensions.\n",
    "- Voxels are centered around 0, so they extend from `-size/2` to `size/2` in all directions.\n",
    "- Because the spins store the phase offset and not the magnetic field offset, we have to convert the gradient to a phase gradient. We can access the gyromagnetic ratio from the `BOLDconstants` module. "
   ]
  },
  {
   "cell_type": "code",
   "execution_count": null,
   "metadata": {},
   "outputs": [],
   "source": [
    "from BOLDswimsuite.BOLDconstants import GYROMAGNETIC_RATIO #Hz/T\n",
    "\n",
    "#to convert from magnetic field offset to phase offset\n",
    "phase_conversion_factor = 2 * np.pi * GYROMAGNETIC_RATIO * dt * 0.001 #our dt is in ms but our gyromagnetic ratio is in Hz, so we multiply by 0.001\n",
    "\n",
    "gradient_slope_T_per_mm = 5e-7 #T/mm\n",
    "\n",
    "\n",
    "def calculate_gradient_phase_offset(positions):\n",
    "    #get just the x component of the spin positions\n",
    "    x = positions[:, 0]\n",
    "\n",
    "    #adding size/2 will make our position values range from 0 to size instead of -size/2 to size/2\n",
    "    #this makes it easier to apply the gradient\n",
    "    x_shifted = x + random_continuous_voxel.size/2\n",
    "\n",
    "    #calculate the magnetic field offset gradient for all positions\n",
    "    gradient_T = x_shifted*gradient_slope_T_per_mm\n",
    "\n",
    "    #convert to phase\n",
    "    gradient_phase = gradient_T*phase_conversion_factor\n",
    "\n",
    "    return gradient_phase"
   ]
  },
  {
   "cell_type": "markdown",
   "metadata": {},
   "source": [
    "Now that our gradient function is created, we can manually add this additional phase offset to the spin phase offset in the simulation loop: $\\Delta\\phi_{total}(x,y,z,t) = \\Delta\\phi_{voxel}(x,y,z,t) + \\Delta\\phi_{gradient}(x,y,z)$"
   ]
  },
  {
   "cell_type": "code",
   "execution_count": null,
   "metadata": {},
   "outputs": [],
   "source": [
    "num_steps = 200 # 200*0.2ms = 40ms\n",
    "\n",
    "# signals for sequence 1\n",
    "eviv = np.zeros(num_steps)\n",
    "ev = np.zeros(num_steps)\n",
    "iv = np.zeros(num_steps)\n",
    "\n",
    "for j in tqdm(range(num_steps)): # use just `for i in range(num_steps)` to remove the progress bar  \n",
    "    \n",
    "    #step through the spins object\n",
    "    spins.step(dt=dt)\n",
    "\n",
    "    #collect spins state\n",
    "    phase, vessel_indices, dt = spins.get_phase_vessel_indices_dt()\n",
    "\n",
    "    #calculate the gradient phase offset for the current spin positions\n",
    "    gradient_phase_offset = calculate_gradient_phase_offset(spins.positions)\n",
    "\n",
    "    #add the gradient phase offset to the phase offset\n",
    "    phase_total = phase + gradient_phase_offset\n",
    "\n",
    "    #important step! Spins are intravascular only where vessel_indices is non-zero.\n",
    "    is_IV = vessel_indices > 0\n",
    "    \n",
    "    #step through sequence 1 and save signals\n",
    "    sequence.step(phase=phase_total, is_IV=is_IV)\n",
    "    eviv[j], ev[j], iv[j] = sequence.get_signals(cplx=False)"
   ]
  },
  {
   "cell_type": "markdown",
   "metadata": {},
   "source": [
    "We now plot the collected signals."
   ]
  },
  {
   "cell_type": "code",
   "execution_count": null,
   "metadata": {},
   "outputs": [],
   "source": [
    "# array of the time range\n",
    "time_range = np.arange(0, dt*num_steps, dt)\n",
    "\n",
    "# creating a matplotlib figure\n",
    "figure, (ax1,ax2,ax3) = plt.subplots(nrows=1, ncols=3, figsize=(15,5))\n",
    "\n",
    "# plotting all three signals with some formatting\n",
    "ax1.plot(time_range, eviv)\n",
    "ax1.set_title('Total')\n",
    "ax1.set_xlabel('Time (ms)')\n",
    "ax1.set_ylabel('Signal')\n",
    "\n",
    "ax2.plot(time_range, ev)\n",
    "ax2.set_title('EV')\n",
    "ax2.set_xlabel('Time (ms)')\n",
    "\n",
    "ax3.plot(time_range, iv)\n",
    "ax3.set_title('IV')\n",
    "ax3.set_xlabel('Time (ms)')\n",
    "\n",
    "figure.tight_layout()"
   ]
  }
 ],
 "metadata": {
  "kernelspec": {
   "display_name": ".venv",
   "language": "python",
   "name": "python3"
  },
  "language_info": {
   "codemirror_mode": {
    "name": "ipython",
    "version": 3
   },
   "file_extension": ".py",
   "mimetype": "text/x-python",
   "name": "python",
   "nbconvert_exporter": "python",
   "pygments_lexer": "ipython3",
   "version": "3.10.4"
  },
  "orig_nbformat": 4
 },
 "nbformat": 4,
 "nbformat_minor": 2
}
