{
 "cells": [
  {
   "cell_type": "markdown",
   "metadata": {},
   "source": [
    "# Lesson 0 - Jupyter notebooks\n",
    "\n",
    "This lesson quickly introduces Jupyter notebooks, and is useful for those unfamiliar with Jupyter who want to go through the other lessons.\n",
    "\n",
    "These files contain two types of sections, text and code code cells. The code cells use Python and can be run by clicking them and pressing the play button at the top of the file (shortcut is `Shift+Enter`). When run, the cells will automatically print out the last result in the cell:"
   ]
  },
  {
   "cell_type": "code",
   "execution_count": null,
   "metadata": {},
   "outputs": [],
   "source": [
    "1 + 1"
   ]
  },
  {
   "cell_type": "markdown",
   "metadata": {},
   "source": [
    "The code in the cells can be changed, which is useful during lessons to play around with what you have just learned.\n",
    "\n",
    "Plots are automatically output in the notebook when the code cell is run:"
   ]
  },
  {
   "cell_type": "code",
   "execution_count": null,
   "metadata": {},
   "outputs": [],
   "source": [
    "import matplotlib.pyplot as plt\n",
    "import numpy as np\n",
    "\n",
    "x = np.linspace(0, 10, 100)\n",
    "y = x**2\n",
    "\n",
    "plt.plot(x, y)\n",
    "plt.show()"
   ]
  },
  {
   "cell_type": "markdown",
   "metadata": {},
   "source": [
    "Variables created in one cell can be accessed by all other cells, as long as the cell has been run. Created variables will always stay in memory unless overwritten or if the kernel is restarted by clicking circular arrow button at the top of the file (shortcut is `0+0`)."
   ]
  },
  {
   "cell_type": "code",
   "execution_count": null,
   "metadata": {},
   "outputs": [],
   "source": [
    "# Run this first!\n",
    "\n",
    "some_list = [1, 2, 3, 4]"
   ]
  },
  {
   "cell_type": "code",
   "execution_count": null,
   "metadata": {},
   "outputs": [],
   "source": [
    "# Run this second!\n",
    "\n",
    "some_list[1]"
   ]
  },
  {
   "cell_type": "markdown",
   "metadata": {},
   "source": [
    "Changes to a lesson will remain if saved! This is fine for experimenting, and a new copy of the lesson can always be taken from the git repository."
   ]
  }
 ],
 "metadata": {
  "kernelspec": {
   "display_name": ".venv",
   "language": "python",
   "name": "python3"
  },
  "language_info": {
   "codemirror_mode": {
    "name": "ipython",
    "version": 3
   },
   "file_extension": ".py",
   "mimetype": "text/x-python",
   "name": "python",
   "nbconvert_exporter": "python",
   "pygments_lexer": "ipython3",
   "version": "3.10.4"
  },
  "orig_nbformat": 4
 },
 "nbformat": 4,
 "nbformat_minor": 2
}
