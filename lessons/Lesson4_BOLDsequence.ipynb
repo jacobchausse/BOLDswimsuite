{
 "cells": [
  {
   "cell_type": "markdown",
   "metadata": {},
   "source": [
    "# Lesson 4 - BOLDsequence\n",
    "\n",
    "The `BOLDsequence` module allows us to take our dephasing time series and convert it to a signal using a pulse sequence. To begin we first import the module as follows (and NumPy for array creation, matplotlib for plotting and tqdm for progressbars):"
   ]
  },
  {
   "cell_type": "code",
   "execution_count": null,
   "metadata": {},
   "outputs": [],
   "source": [
    "from BOLDswimsuite import BOLDgeometry, BOLDspins, BOLDsequence\n",
    "import numpy as np\n",
    "import matplotlib.pyplot as plt\n",
    "from tqdm import tqdm # for progress bars"
   ]
  },
  {
   "cell_type": "markdown",
   "metadata": {},
   "source": [
    "Similarily to the previous lesson, we start by creating a randomly generated continuous voxel."
   ]
  },
  {
   "cell_type": "code",
   "execution_count": null,
   "metadata": {},
   "outputs": [],
   "source": [
    "random_continuous_voxel = BOLDgeometry.ContinuousVoxel3D.from_random(\n",
    "    size=0.1,\n",
    "    CBV=0.02,\n",
    "    B0=3,\n",
    "    labels=['vein', 'artery'],\n",
    "    weights={\n",
    "        'vein':1, \n",
    "        'artery':1\n",
    "    },\n",
    "    diameter_distributions={\n",
    "        'vein': [0.002, 0.003, 0.004], \n",
    "        'artery': [0.003, 0.004, 0.005]\n",
    "    },\n",
    "    dchis={\n",
    "        'vein': 3e-8,\n",
    "        'artery': 4e-8\n",
    "    },\n",
    "    permeation_probabilities={ # we use impermeable vessels here as permeable vessels require a very high spin count to produce a relatively noise-free signal output\n",
    "        'vein': 0, \n",
    "        'artery': 0\n",
    "    },\n",
    "    vessel_type='cylinder',\n",
    "    allow_vessel_intersection=True,\n",
    "    seed=0, #repeating with the same seed with provide the same result\n",
    "    progressbar=True\n",
    ")\n",
    "\n",
    "print(f'Number of vessels: {len(random_continuous_voxel.vessels)}')"
   ]
  },
  {
   "cell_type": "markdown",
   "metadata": {},
   "source": [
    "We now create a 3D spins object with our new geometry."
   ]
  },
  {
   "cell_type": "code",
   "execution_count": null,
   "metadata": {},
   "outputs": [],
   "source": [
    "num_spins = 10_000\n",
    "dt=0.2 #we will use a constant 0.2ms time step\n",
    "\n",
    "spins = BOLDspins.Spins3D(\n",
    "    ADC=0.001,\n",
    "    num_spins=num_spins,\n",
    "    geometry=random_continuous_voxel,\n",
    "    dt=dt,\n",
    "    IV=True,\n",
    "    seed=0 #repeating with the same seed with provide the same result\n",
    ")"
   ]
  },
  {
   "cell_type": "markdown",
   "metadata": {},
   "source": [
    "Now we can create a `SpinSequence` object. It has the following arguments:\n",
    "- spins : BOLDspins.Spins, the spins object which will be used in the sequence.\n",
    "- pulse_time_indices : List[int], list of the number of time steps before each pulse.\n",
    "- pulse_angles : List[float], list of angle of each pulse (radians). Must be the same length as `pulse_time_indices`\n",
    "- pulse_axes : List[List[float]], list of axes around which to rotate the spins, in polar coordinates (radians). Each axis in the list is a 2 item list with the form `[phi,theta]`. For example, a pulse on the x-axis will be represented as `[np.pi/2, 0]` and a pules on the y-axis will be represented as `[np.pi/2, np.pi/2]`."
   ]
  },
  {
   "cell_type": "code",
   "execution_count": null,
   "metadata": {},
   "outputs": [],
   "source": [
    "sequence = BOLDsequence.SpinSequence(\n",
    "    spins=spins,\n",
    "    pulse_time_indices=[0, 50],                     #[0ms       , 10ms]\n",
    "    pulse_angles=[np.pi/2, np.pi],                  #[90 degrees, 180 degrees]\n",
    "    pulse_axes=[[np.pi/2, np.pi/2], [np.pi/2, 0]]   #[y-axis    , x-axis]\n",
    ")"
   ]
  },
  {
   "cell_type": "markdown",
   "metadata": {},
   "source": [
    "We can now obtain the signal for the first time step. Since we have a y-axis 90 degree pulse at time step 0, it will automatically be applied. We use the `step` method to do this, which requires the step length `dt` in ms. The `SpinSequence` object automatically takes care of taking steps with the `Spins` object every time we step through the sequence:"
   ]
  },
  {
   "cell_type": "code",
   "execution_count": null,
   "metadata": {},
   "outputs": [],
   "source": [
    "sequence.step(dt=0.2)"
   ]
  },
  {
   "cell_type": "markdown",
   "metadata": {},
   "source": [
    "To get the signal, we use the `get_signals` method, which returns the total signal, EV signal and IV signal. It only has one argument:\n",
    "- cplx : bool, if True, will return the complex signal, if False returns the magnitude of the signal. Default is False."
   ]
  },
  {
   "cell_type": "code",
   "execution_count": null,
   "metadata": {},
   "outputs": [],
   "source": [
    "eviv, ev, iv = sequence.get_signals(cplx=False)\n",
    "\n",
    "print(f'Total signal: {eviv}')\n",
    "print(f'EV signal: {ev}')\n",
    "print(f'IV signal: {iv}')"
   ]
  },
  {
   "cell_type": "markdown",
   "metadata": {},
   "source": [
    "Now if we want to calculate the rest of the signal, we can use a simple 'for' loop, and some arrays to store the results.\n",
    "\n",
    ">Note: we are using tqdm to add a progress bar to the for loop, which helps track the progress and gives an estimate of the remaining time."
   ]
  },
  {
   "cell_type": "code",
   "execution_count": null,
   "metadata": {},
   "outputs": [],
   "source": [
    "num_steps = 200 # 200*0.2ms = 40ms\n",
    "\n",
    "# 3 arrays to store the signals\n",
    "eviv = np.zeros(num_steps) \n",
    "ev = np.zeros(num_steps)\n",
    "iv = np.zeros(num_steps)\n",
    "\n",
    "# for loop to repeat the Monte Carlo steps and signal calculation\n",
    "for j in tqdm(range(num_steps)): # use just `for j in range(num_steps)` to remove the progress bar\n",
    "\n",
    "    # we advance the pulse sequence by one step, which will also advance the spins by a step\n",
    "    sequence.step(dt=0.2)\n",
    "\n",
    "    # we retrieve the signals and store them in the arrays\n",
    "    eviv[j], ev[j], iv[j] = sequence.get_signals(cplx=False)"
   ]
  },
  {
   "cell_type": "markdown",
   "metadata": {},
   "source": [
    "Now we can plot the signals using matplotlib."
   ]
  },
  {
   "cell_type": "code",
   "execution_count": null,
   "metadata": {},
   "outputs": [],
   "source": [
    "# array of the time range\n",
    "time_range = np.arange(0, dt*num_steps, dt)\n",
    "\n",
    "# creating a matplotlib figure\n",
    "figure, (ax1,ax2,ax3) = plt.subplots(nrows=1, ncols=3, figsize=(15,5))\n",
    "\n",
    "# plotting all three signals with some formatting\n",
    "ax1.plot(time_range, eviv)\n",
    "ax1.set_title('Total')\n",
    "ax1.set_xlabel('Time (ms)')\n",
    "ax1.set_ylabel('Signal')\n",
    "\n",
    "ax2.plot(time_range, ev)\n",
    "ax2.set_title('EV')\n",
    "ax2.set_xlabel('Time (ms)')\n",
    "\n",
    "ax3.plot(time_range, iv)\n",
    "ax3.set_title('IV')\n",
    "ax3.set_xlabel('Time (ms)')\n",
    "\n",
    "figure.tight_layout()"
   ]
  },
  {
   "cell_type": "markdown",
   "metadata": {},
   "source": [
    "We can also use the `walk` method of the sequence object to automatically walk through `num_steps` steps, although this option is a bit less flexible. To show this we will create new `Spins` and `SpinSequence` objects to start fresh:"
   ]
  },
  {
   "cell_type": "code",
   "execution_count": null,
   "metadata": {},
   "outputs": [],
   "source": [
    "num_spins = 10_000\n",
    "dt=0.2\n",
    "\n",
    "spins = BOLDspins.Spins3D(\n",
    "    ADC=0.001,\n",
    "    num_spins=num_spins,\n",
    "    geometry=random_continuous_voxel,\n",
    "    dt=dt,\n",
    "    IV=True,\n",
    "    seed=0 #repeating with the same seed will provide the same result\n",
    ")\n",
    "\n",
    "sequence = BOLDsequence.SpinSequence(\n",
    "    spins=spins,\n",
    "    pulse_time_indices=[0, 50], # 50*0.2ms = 10ms\n",
    "    pulse_angles=[np.pi/2, np.pi],\n",
    "    pulse_axes=[[np.pi/2, np.pi/2], [np.pi/2, 0]]\n",
    ")"
   ]
  },
  {
   "cell_type": "markdown",
   "metadata": {},
   "source": [
    "We now use the `walk` method to advance through the entire time range and produce the 3 signal arrays. The function also has a `progressbar` option which when set to `True` will display a progress bar:"
   ]
  },
  {
   "cell_type": "code",
   "execution_count": null,
   "metadata": {},
   "outputs": [],
   "source": [
    "eviv, ev, iv = sequence.walk(\n",
    "    dt=0.2,\n",
    "    num_steps=num_steps,\n",
    "    progressbar=True\n",
    ")"
   ]
  },
  {
   "cell_type": "markdown",
   "metadata": {},
   "source": [
    "We can then plot the signals:"
   ]
  },
  {
   "cell_type": "code",
   "execution_count": null,
   "metadata": {},
   "outputs": [],
   "source": [
    "# array of the time range\n",
    "time_range = np.arange(0, dt*num_steps, dt)\n",
    "\n",
    "# creating a matplotlib figure\n",
    "figure, (ax1,ax2,ax3) = plt.subplots(nrows=1, ncols=3, figsize=(15,5))\n",
    "\n",
    "# plotting all three signals with some formatting\n",
    "ax1.plot(time_range, eviv)\n",
    "ax1.set_title('Total')\n",
    "ax1.set_xlabel('Time (ms)')\n",
    "ax1.set_ylabel('Signal')\n",
    "\n",
    "ax2.plot(time_range, ev)\n",
    "ax2.set_title('EV')\n",
    "ax2.set_xlabel('Time (ms)')\n",
    "\n",
    "ax3.plot(time_range, iv)\n",
    "ax3.set_title('IV')\n",
    "ax3.set_xlabel('Time (ms)')\n",
    "\n",
    "figure.tight_layout()"
   ]
  },
  {
   "cell_type": "markdown",
   "metadata": {},
   "source": [
    "### No Diffusion Simulations"
   ]
  },
  {
   "cell_type": "markdown",
   "metadata": {},
   "source": [
    "If we do not want to model diffusion in our simulation, rather than setting the ADC to 0, we can use the `Sequence` object (not the `SpinSequence` object as previously). This will allow us to step through the sequence without stepping through the spins, which will have the effect of no diffusion. Doing it this way is faster than setting the ADC to 0 as it prevents the simulation from recalculating the dephasing at each time step. We first create our spins and sequence objects."
   ]
  },
  {
   "cell_type": "code",
   "execution_count": null,
   "metadata": {},
   "outputs": [],
   "source": [
    "num_spins = 10_000\n",
    "dt=0.2\n",
    "\n",
    "spins = BOLDspins.Spins3D(\n",
    "    ADC=0.001,\n",
    "    num_spins=num_spins,\n",
    "    geometry=random_continuous_voxel,\n",
    "    dt=dt,\n",
    "    IV=True,\n",
    "    seed=0 #repeating with the same seed with provide the same result\n",
    ")\n",
    "\n",
    "sequence = BOLDsequence.Sequence(\n",
    "    sample_shape=num_spins,\n",
    "    pulse_time_indices=[0, 50], # 50*0.2ms = 10ms\n",
    "    pulse_angles=[np.pi/2, np.pi],\n",
    "    pulse_axes=[[np.pi/2, np.pi/2], [np.pi/2, 0]]\n",
    ")"
   ]
  },
  {
   "cell_type": "markdown",
   "metadata": {},
   "source": [
    ">Note: the `Sequence` object takes in `sample_shape` and not `spins` as an argument when creating the object. This makes it more flexible, allowing us in this case to prevent stepping through the spins. For our purposes, `sample_shape` is just the number of spins (`num_spins`)."
   ]
  },
  {
   "cell_type": "markdown",
   "metadata": {},
   "source": [
    "Then we use the same 'for' loop method as with the `SpinSequence`. Here we must pass the `step` method the phase samples (`phase`) and intravascular state of each phase sample (`is_IV`). Both of these can be taken from the `Spins` object."
   ]
  },
  {
   "cell_type": "code",
   "execution_count": null,
   "metadata": {},
   "outputs": [],
   "source": [
    "num_steps = 200 # 200*0.2ms = 40ms\n",
    "\n",
    "# 3 arrays to store the signals\n",
    "eviv = np.zeros(num_steps)\n",
    "ev = np.zeros(num_steps)\n",
    "iv = np.zeros(num_steps)\n",
    "\n",
    "phase = spins.phase\n",
    "is_IV = spins.vessel_indices>0 # any vessel index greater than 0 is intravascular\n",
    "\n",
    "for j in tqdm(range(num_steps)): # use just `for i in range(num_steps)` to remove the progress bar\n",
    "    sequence.step(phase=phase, is_IV=is_IV)\n",
    "    eviv[j], ev[j], iv[j] = sequence.get_signals(cplx=False)"
   ]
  },
  {
   "cell_type": "markdown",
   "metadata": {},
   "source": [
    "We again plot the result, and see that the resulting signal indeed has the characteristics of no-diffusion simulations, such as perfect refocusing at the spin echo."
   ]
  },
  {
   "cell_type": "code",
   "execution_count": null,
   "metadata": {},
   "outputs": [],
   "source": [
    "# array of the time range\n",
    "time_range = np.arange(0, dt*num_steps, dt)\n",
    "\n",
    "# creating a matplotlib figure\n",
    "figure, (ax1,ax2,ax3) = plt.subplots(nrows=1, ncols=3, figsize=(15,5))\n",
    "\n",
    "# plotting all three signals with some formatting\n",
    "ax1.plot(time_range, eviv)\n",
    "ax1.set_title('Total')\n",
    "ax1.set_xlabel('Time (ms)')\n",
    "ax1.set_ylabel('Signal')\n",
    "\n",
    "ax2.plot(time_range, ev)\n",
    "ax2.set_title('EV')\n",
    "ax2.set_xlabel('Time (ms)')\n",
    "\n",
    "ax3.plot(time_range, iv)\n",
    "ax3.set_title('IV')\n",
    "ax3.set_xlabel('Time (ms)')\n",
    "\n",
    "figure.tight_layout()"
   ]
  }
 ],
 "metadata": {
  "kernelspec": {
   "display_name": ".venv",
   "language": "python",
   "name": "python3"
  },
  "language_info": {
   "codemirror_mode": {
    "name": "ipython",
    "version": 3
   },
   "file_extension": ".py",
   "mimetype": "text/x-python",
   "name": "python",
   "nbconvert_exporter": "python",
   "pygments_lexer": "ipython3",
   "version": "3.10.4"
  },
  "orig_nbformat": 4
 },
 "nbformat": 4,
 "nbformat_minor": 2
}
