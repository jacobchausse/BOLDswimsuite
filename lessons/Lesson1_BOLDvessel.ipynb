{
 "cells": [
  {
   "cell_type": "markdown",
   "metadata": {},
   "source": [
    "# Lesson 1 - BOLDvessel\n",
    "\n",
    "The `BOLDvessel` module contains the objects which define perturbers in continuous-space simulations. To begin we first import the module as follows (and NumPy for array creation):"
   ]
  },
  {
   "cell_type": "code",
   "execution_count": null,
   "metadata": {},
   "outputs": [],
   "source": [
    "from BOLDswimsuite import BOLDvessel\n",
    "import numpy as np"
   ]
  },
  {
   "cell_type": "markdown",
   "metadata": {},
   "source": [
    "We must now choose what type of vessel we need for our purposes, which includes both the shape and number of dimensions:\n",
    "\n",
    "3D:\n",
    "- Infinite cylinder: `BOLDvessel.InfiniteCylinder3D`\n",
    "- Sphere: `BOLDvessel.Sphere3D`\n",
    "\n",
    "2D:\n",
    "- Infinite Cylinder: `BOLDvessel.InfiniteCylinder2D`\n",
    "- In-plane sphere: `BOLDvessel.Sphere2D`\n",
    "\n",
    "All of these objects are created and function similarily, so we will use `BOLDvessel.InfiniteCylinder3D` to explain how to create and use these objects.\n",
    "\n",
    "## Creating a vessel object\n",
    "\n",
    "There are two ways to create a vessel object:\n",
    "1. Manually define all the parameters\n",
    "2. Randomly generate the perturber according to some pararmeters\n",
    "\n",
    "We will begin with the first. The default constructor for `BOLDvessel.InfiniteCylinder3D` requires the following arguments:\n",
    "\n",
    "- diameter : float, vessel diameter (mm)\n",
    "- theta : float, zenith angle of the vessel direction (radians)\n",
    "- phi : float, azimuth angle of the vessel direction (radians)\n",
    "- origin : np.ndarray, cartesian coordinates of the vessel origin (mm)\n",
    "- dchi : float, susceptibility difference between the vessel and the surrounding tissue (cgs units)\n",
    "- permeation_probability : float, probability for a spin to permeate through the vesel wall (fraction of 1). Default is 0.\n",
    "- label : str, string to identify the vessel. Default is ''.\n",
    "\n",
    ">Note: It is good practice whenever making float arrays to add a decimal point (i.e. \"1.\" instead of \"1\"), so that the array is not accidentally interpreted as an integer, which results in a runtime error."
   ]
  },
  {
   "cell_type": "code",
   "execution_count": null,
   "metadata": {},
   "outputs": [],
   "source": [
    "# creating some vessel with arbitrary parameters\n",
    "\n",
    "vessel = BOLDvessel.InfiniteCylinder3D(\n",
    "    diameter=0.1, #mm\n",
    "    theta=np.pi/3, #radians\n",
    "    phi=np.pi/4,\n",
    "    origin=np.array([0., 0., 0.]), #mm\n",
    "    dchi=3e-8, #cgs units\n",
    "    permeation_probability=0, #probability\n",
    "    label='vein'\n",
    ")"
   ]
  },
  {
   "cell_type": "markdown",
   "metadata": {},
   "source": [
    "> Note: the `label` parameter is mainly useful when categorizing groups of vessels which would share the same label. It is also an optional parameter."
   ]
  },
  {
   "cell_type": "markdown",
   "metadata": {},
   "source": [
    "Now we look at the second way to create vessels, using the class method `from_random`. This is used to randomly position vessels within a bounding box or voxel. It has the following arguments:\n",
    "\n",
    "- diameter : float, vessel diameter (mm) \n",
    "- dchi : float, susceptibility difference between the vessel and the surrounding tissue (cgs units)\n",
    "- voxel_size : float, size of the bounding box (mm)\n",
    "- permeation_probability : float, probability for a spin to permeate through the vesel wall (fraction of 1). Default is 0.\n",
    "- label : str, string to identify the vessel. Default is ''.\n",
    "- rng : np.random.Generator, random generator to be used for random number generation. Default is np.random.default_rng(). \n",
    "\n",
    ">Note: The `rng` argument is ignored in the example. It is used for seeding the random numbers."
   ]
  },
  {
   "cell_type": "code",
   "execution_count": null,
   "metadata": {},
   "outputs": [],
   "source": [
    "# Running multiple times will provide more random vessels.\n",
    "\n",
    "random_vessel = BOLDvessel.InfiniteCylinder3D.from_random(\n",
    "    diameter=0.1, #mm\n",
    "    dchi=3e-8, #cgs\n",
    "    voxel_size=10, #mm\n",
    "    permeation_probability=0,\n",
    "    label='vein'\n",
    ")\n",
    "\n",
    "print(f\"Origin: {random_vessel.origin}\")\n",
    "print(f\"Theta: {random_vessel.theta}\")\n",
    "print(f\"Phi: {random_vessel.phi}\")\n"
   ]
  },
  {
   "cell_type": "markdown",
   "metadata": {},
   "source": [
    ">Note: All constructors have a docstring which can be accessed with the `help` function. Information on the created object and a description of each required argument can be found in the docstring."
   ]
  },
  {
   "cell_type": "code",
   "execution_count": null,
   "metadata": {},
   "outputs": [],
   "source": [
    "#the alternate constructor for InfiniteCylinder3D\n",
    "help(BOLDvessel.InfiniteCylinder3D.from_random)"
   ]
  },
  {
   "cell_type": "markdown",
   "metadata": {},
   "source": [
    "## Vessel Methods\n",
    "\n",
    "Now that we can create vessels, there are several methods we can use to obtain information from them.\n",
    "\n",
    "First there is the `is_IV` method, which, given an array of positions (in mm), will return a boolean array indicating whether a position is EV or IV.\n",
    "For example, we know that the position `[0.01,0.01,0.01]` is intravascular to the vessel we created, and the position `[1000,1000,1000]` is extravascular.\n",
    "\n",
    "> Note: all arguments named `positions` require a (N, d) array of values, where N is the number of positions and d is the number of dimensions. In this example we are using a 3D vessel and we have 2 positions, so the array will be of shape (2, 3)."
   ]
  },
  {
   "cell_type": "code",
   "execution_count": null,
   "metadata": {},
   "outputs": [],
   "source": [
    "positions = np.array(\n",
    "    [[0.01, 0.01, 0.01], #first position at [0.01,0.01,0.01] (mm)\n",
    "     [1000, 1000, 1000]] #second position at [1000,1000,1000] (mm)\n",
    ")\n",
    "\n",
    "vessel.is_IV(positions)"
   ]
  },
  {
   "cell_type": "markdown",
   "metadata": {},
   "source": [
    "The method returned just as expected, `True` or intravascular for the first position, and `False` or extravascular for the second one.\n",
    "\n",
    "Next there are the `dBz_EV` and `dBz_IV` methods which provide the extravascular and intravascular magnetic field offsets, respectively. The arguments for `dBz_EV` are the positions where the dBz will be calculated and the B0 magnetic field strength (in Tesla). For `dBz_IV`, only B0 is required."
   ]
  },
  {
   "cell_type": "code",
   "execution_count": null,
   "metadata": {},
   "outputs": [],
   "source": [
    "B0 = 3\n",
    "\n",
    "vessel.dBz_EV(positions, B0)"
   ]
  },
  {
   "cell_type": "markdown",
   "metadata": {},
   "source": [
    "Here we get the extravascular dBz for all of the positions given."
   ]
  },
  {
   "cell_type": "code",
   "execution_count": null,
   "metadata": {},
   "outputs": [],
   "source": [
    "vessel.dBz_IV(B0)"
   ]
  },
  {
   "cell_type": "markdown",
   "metadata": {},
   "source": [
    "Here we get the intravascular dBz (only one value is returned as it is position-independent).\n",
    "\n",
    "There is also the convenience function `is_IV_dBz` which provides all the information above with only one method call. This method requires the same arguments as `dBz_EV`, and returns a Tuple with the output of `is_IV`, `dBz_EV` and `dBz_IV`. When all three are needed, this method is more computationally efficient and so should be used."
   ]
  },
  {
   "cell_type": "code",
   "execution_count": null,
   "metadata": {},
   "outputs": [],
   "source": [
    "is_IV, dBz_EV, dBz_IV = vessel.is_IV_dBz(positions, B0)\n",
    "print(f'is_IV: {is_IV}')\n",
    "print(f'dBz_EV: {dBz_EV}')\n",
    "print(f'dBz_IV: {dBz_IV}')"
   ]
  },
  {
   "cell_type": "markdown",
   "metadata": {},
   "source": [
    ">Note: All methods also have a docstring which can be accessed with the `help` function. Information on the method purpose and a description of each required argument can be found in the docstring."
   ]
  },
  {
   "cell_type": "code",
   "execution_count": null,
   "metadata": {},
   "outputs": [],
   "source": [
    "#the is_IV_dBz method of InfiniteCylinder3D\n",
    "help(BOLDvessel.InfiniteCylinder3D.is_IV_dBz)"
   ]
  },
  {
   "cell_type": "markdown",
   "metadata": {},
   "source": [
    "There are also some other utilities that are useful for other things.\n",
    "`volume_fraction` takes in the size of a voxel, and outputs an estimated volume fraction of the voxel occupied by the vessel (voxel is centered arround zero)."
   ]
  },
  {
   "cell_type": "code",
   "execution_count": null,
   "metadata": {},
   "outputs": [],
   "source": [
    "voxel_size = 10 #mm\n",
    "vessel.volume_fraction(voxel_size)"
   ]
  },
  {
   "cell_type": "markdown",
   "metadata": {},
   "source": [
    "We can also check whether two vessels intersect with `intersects` (only works when both are the same type of vessel)."
   ]
  },
  {
   "cell_type": "code",
   "execution_count": null,
   "metadata": {},
   "outputs": [],
   "source": [
    "# creating another vessel\n",
    "vessel2 = BOLDvessel.InfiniteCylinder3D(\n",
    "    diameter=2, #mm\n",
    "    theta=-np.pi/3, #radians\n",
    "    phi=np.pi/2,\n",
    "    origin=np.array([1., 1., 0.]), #mm\n",
    "    dchi=3e-8, #cgs units\n",
    "    permeation_probability=0, #probability\n",
    "    label='artery'\n",
    ")\n",
    "\n",
    "vessel.intersects(vessel2)"
   ]
  }
 ],
 "metadata": {
  "kernelspec": {
   "display_name": "Python 3 (ipykernel)",
   "language": "python",
   "name": "python3"
  },
  "language_info": {
   "codemirror_mode": {
    "name": "ipython",
    "version": 3
   },
   "file_extension": ".py",
   "mimetype": "text/x-python",
   "name": "python",
   "nbconvert_exporter": "python",
   "pygments_lexer": "ipython3",
   "version": "3.10.4"
  }
 },
 "nbformat": 4,
 "nbformat_minor": 4
}
