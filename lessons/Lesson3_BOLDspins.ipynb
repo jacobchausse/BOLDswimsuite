{
 "cells": [
  {
   "cell_type": "markdown",
   "metadata": {},
   "source": [
    "# Lesson 3 - BOLDspins\n",
    "\n",
    "The `BOLDspins` module contains the objects which define Monte Carlo spin diffusion in simulations. To begin we first import the module as follows:"
   ]
  },
  {
   "cell_type": "code",
   "execution_count": null,
   "metadata": {},
   "outputs": [],
   "source": [
    "from boldswimsuite import BOLDgeometry, BOLDspins"
   ]
  },
  {
   "cell_type": "markdown",
   "metadata": {},
   "source": [
    "## Using Continuous Voxels"
   ]
  },
  {
   "cell_type": "markdown",
   "metadata": {},
   "source": [
    "We will start by randomly generating a continuous voxel, as spins require a space in which to exist."
   ]
  },
  {
   "cell_type": "code",
   "execution_count": null,
   "metadata": {},
   "outputs": [],
   "source": [
    "random_continuous_voxel = BOLDgeometry.ContinuousVoxel3D.from_random(\n",
    "    size=3,\n",
    "    CBV=0.10,\n",
    "    B0=3,\n",
    "    labels=['vein', 'artery'],\n",
    "    weights={\n",
    "        'vein':1, \n",
    "        'artery':1\n",
    "    },\n",
    "    diameter_distributions={\n",
    "        'vein': [0.2, 0.3, 0.4], \n",
    "        'artery': [0.3, 0.4, 0.5]\n",
    "    },\n",
    "    dchis={\n",
    "        'vein': 3e-8,\n",
    "        'artery': 4e-8\n",
    "    },\n",
    "    permeation_probabilities={\n",
    "        'vein': 0, \n",
    "        'artery': 0.1\n",
    "    },\n",
    "    vessel_type='cylinder',\n",
    "    allow_vessel_intersection=True,\n",
    "    seed=0, #repeating with the same seed with provide the same result\n",
    "    progressbar=True\n",
    ")\n",
    "\n",
    "print(f'Number of vessels: {len(random_continuous_voxel.vessels)}')"
   ]
  },
  {
   "cell_type": "markdown",
   "metadata": {},
   "source": [
    "Now we can create a `Spins3D` object using the default constructor, which has the following arguments:\n",
    "- ADC : float, the apparent diffusion coefficient of water molecules in the tissue (mm^2/s).\n",
    "- num_spins : int, the number of Monte Carlo spins to create.\n",
    "- geometry : BOLDgeometry.ContinuousVoxel3D | BOLDgeometry.DiscreteVoxel3D, the voxel object on which the spins will diffuse.\n",
    "- dt : float, the initial step length (ms).\n",
    "- IV : bool, if False, will only position spins in the extravascular space. Default is True.\n",
    "- seed : int, seed for the random number generator."
   ]
  },
  {
   "cell_type": "code",
   "execution_count": null,
   "metadata": {},
   "outputs": [],
   "source": [
    "spins = BOLDspins.Spins3D(\n",
    "    ADC=0.001, \n",
    "    num_spins=5,\n",
    "    geometry=random_continuous_voxel,\n",
    "    dt=0.2,\n",
    "    IV=True,\n",
    "    seed=0 #repeating with the same seed with provide the same result\n",
    ")"
   ]
  },
  {
   "cell_type": "markdown",
   "metadata": {},
   "source": [
    "Creating the spins not only positions the spins, but also calculates the dephasing and vessel indices for each spin. We can get all of these (and the `dt` from which these were calculated) with the `get_phase_vessel_index_dt` method."
   ]
  },
  {
   "cell_type": "code",
   "execution_count": null,
   "metadata": {},
   "outputs": [],
   "source": [
    "phase, vessel_indices, dt = spins.get_phase_vessel_indices_dt()\n",
    "\n",
    "print(f'Phase: {phase}')\n",
    "print(f'vessel indices: {vessel_indices}')\n",
    "print(f'dt: {dt}')"
   ]
  },
  {
   "cell_type": "markdown",
   "metadata": {},
   "source": [
    "We can now advance the simulation by a step, which will move all the spins according to the parameters and geometry provided. We use the `step` method of the spins object, which takes the time step length `dt` as an argument. This way different steps can have different time step lengths."
   ]
  },
  {
   "cell_type": "code",
   "execution_count": null,
   "metadata": {},
   "outputs": [],
   "source": [
    "spins.step(dt=0.1)"
   ]
  },
  {
   "cell_type": "markdown",
   "metadata": {},
   "source": [
    "Once again we use the `get_phase_vessel_indices_dt` method to retrieve the relevant information from the most recent step."
   ]
  },
  {
   "cell_type": "code",
   "execution_count": null,
   "metadata": {},
   "outputs": [],
   "source": [
    "phase, vessel_indices, dt = spins.get_phase_vessel_indices_dt()\n",
    "\n",
    "print(f'Phase: {phase}')\n",
    "print(f'is IV: {vessel_indices}')\n",
    "print(f'dt: {dt}')"
   ]
  },
  {
   "cell_type": "markdown",
   "metadata": {},
   "source": [
    "We can continue to use the `step` function to add additional Monte Carlo steps to the simulation. This is covered more in detail in the next lesson (\"Lesson4_BOLDsequence.ipynb\")."
   ]
  },
  {
   "cell_type": "markdown",
   "metadata": {},
   "source": [
    "## Using Discrete Voxels"
   ]
  },
  {
   "cell_type": "markdown",
   "metadata": {},
   "source": [
    "Using discrete voxels with the spins object is essentially the same as with continuous voxels, but we must first create a discrete voxel object:"
   ]
  },
  {
   "cell_type": "code",
   "execution_count": null,
   "metadata": {},
   "outputs": [],
   "source": [
    "discrete_voxel = BOLDgeometry.DiscreteVoxel3D.from_continuous_analytical(\n",
    "    N=100,\n",
    "    voxel=random_continuous_voxel\n",
    ")"
   ]
  },
  {
   "cell_type": "markdown",
   "metadata": {},
   "source": [
    "We then proceed by creating a spins object but we provide the discrete voxel for the `geometry` argument."
   ]
  },
  {
   "cell_type": "code",
   "execution_count": null,
   "metadata": {},
   "outputs": [],
   "source": [
    "discrete_voxel_spins = BOLDspins.Spins3D(\n",
    "    ADC=0.001,\n",
    "    num_spins=5,\n",
    "    geometry=discrete_voxel,\n",
    "    dt=0.2,\n",
    "    IV=True,\n",
    "    seed=0 #repeating with the same seed with provide the same result\n",
    ")"
   ]
  },
  {
   "cell_type": "markdown",
   "metadata": {},
   "source": [
    "The spins object behaves the same way as when using the continuous voxel:"
   ]
  },
  {
   "cell_type": "code",
   "execution_count": null,
   "metadata": {},
   "outputs": [],
   "source": [
    "phase, vessel_indices, dt = discrete_voxel_spins.get_phase_vessel_indices_dt()\n",
    "\n",
    "print(f'Phase: {phase}')\n",
    "print(f'is IV: {vessel_indices}')\n",
    "print(f'dt: {dt}')"
   ]
  },
  {
   "cell_type": "code",
   "execution_count": null,
   "metadata": {},
   "outputs": [],
   "source": [
    "discrete_voxel_spins.step(dt=0.1)"
   ]
  },
  {
   "cell_type": "code",
   "execution_count": null,
   "metadata": {},
   "outputs": [],
   "source": [
    "phase, vessel_indices, dt = discrete_voxel_spins.get_phase_vessel_indices_dt()\n",
    "\n",
    "print(f'Phase: {phase}')\n",
    "print(f'is IV: {vessel_indices}')\n",
    "print(f'dt: {dt}')"
   ]
  }
 ],
 "metadata": {
  "kernelspec": {
   "display_name": ".venv",
   "language": "python",
   "name": "python3"
  },
  "language_info": {
   "codemirror_mode": {
    "name": "ipython",
    "version": 3
   },
   "file_extension": ".py",
   "mimetype": "text/x-python",
   "name": "python",
   "nbconvert_exporter": "python",
   "pygments_lexer": "ipython3",
   "version": "3.10.4"
  },
  "orig_nbformat": 4
 },
 "nbformat": 4,
 "nbformat_minor": 2
}
