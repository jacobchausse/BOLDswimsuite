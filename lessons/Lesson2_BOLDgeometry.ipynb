{
 "cells": [
  {
   "cell_type": "markdown",
   "metadata": {},
   "source": [
    "# Lesson 2 - BOLDgeometry\n",
    "\n",
    "The `BOLDgeometry` module contains the objects which define voxels in simulations. To begin we first import the module as follows (and NumPy for array creation):"
   ]
  },
  {
   "cell_type": "code",
   "execution_count": null,
   "metadata": {},
   "outputs": [],
   "source": [
    "from boldswimsuite import BOLDgeometry, BOLDvessel\n",
    "import numpy as np"
   ]
  },
  {
   "cell_type": "markdown",
   "metadata": {},
   "source": [
    "## Creating Continuous Voxels\n",
    "\n",
    "A continuous voxel consists of a list of vessel objects, with a voxel size and B0 magnetic field strength.\n",
    "\n",
    ">Note: The voxel is always centered around zero."
   ]
  },
  {
   "cell_type": "markdown",
   "metadata": {},
   "source": [
    "### Using the default constructor\n",
    "\n",
    "Using what we learned in Lesson 1, we can create some `InfiniteCylinder3D` vessels that we will use to construct a voxel."
   ]
  },
  {
   "cell_type": "code",
   "execution_count": null,
   "metadata": {},
   "outputs": [],
   "source": [
    "vessel1 = BOLDvessel.InfiniteCylinder3D(\n",
    "    diameter=1, #mm\n",
    "    theta=-np.pi/3, #radians\n",
    "    phi=np.pi/4,\n",
    "    origin=np.array([0, -1., 0.]), #mm\n",
    "    dchi=3e-8, #cgs units\n",
    "    permeation_probability=0, #probability\n",
    "    label='vein'\n",
    ")\n",
    "\n",
    "vessel2 = BOLDvessel.InfiniteCylinder3D(\n",
    "    diameter=1, #mm\n",
    "    theta=5*np.pi/9, #radians\n",
    "    phi=-np.pi/5,\n",
    "    origin=np.array([1., 1., 0.]), #mm\n",
    "    dchi=3e-8, #cgs units\n",
    "    permeation_probability=0, #probability\n",
    "    label='artery'\n",
    ")\n",
    "\n",
    "vessels = [vessel1, vessel2]"
   ]
  },
  {
   "cell_type": "markdown",
   "metadata": {},
   "source": [
    "The default constructor of `ContinuousVoxel3D` can be used to transform our list of vessels into a voxel. The relevant arguments are:\n",
    "- `size` : float, the side length of the voxel (in mm). \n",
    "- `B0` : float, the B0 magnetic field strength (in Tesla).\n",
    "- `vessels` : List[Vessel3D], a list of 3D vessel objects."
   ]
  },
  {
   "cell_type": "code",
   "execution_count": null,
   "metadata": {},
   "outputs": [],
   "source": [
    "continuous_voxel = BOLDgeometry.ContinuousVoxel3D(\n",
    "    size=5, #mm\n",
    "    B0=3, #T\n",
    "    vessels=vessels\n",
    ")"
   ]
  },
  {
   "cell_type": "markdown",
   "metadata": {},
   "source": [
    "### Using the random generator\n",
    "\n",
    "We can also use the class method `from_random` to create a randomly generated voxel from a series of parameters."
   ]
  },
  {
   "cell_type": "code",
   "execution_count": null,
   "metadata": {},
   "outputs": [],
   "source": [
    "random_continuous_voxel = BOLDgeometry.ContinuousVoxel3D.from_random(\n",
    "    size=5,\n",
    "    CBV=0.02,\n",
    "    B0=3,\n",
    "    labels=['vein', 'artery'],\n",
    "    weights={\n",
    "        'vein':1, \n",
    "        'artery':1\n",
    "    },\n",
    "    diameter_distributions={\n",
    "        'vein': [0.2, 0.3, 0.4], \n",
    "        'artery': [0.3, 0.4, 0.5]\n",
    "    },\n",
    "    dchis={\n",
    "        'vein': 3e-8,\n",
    "        'artery': 4e-8\n",
    "    },\n",
    "    permeation_probabilities={\n",
    "        'vein': 0, \n",
    "        'artery': 0.1\n",
    "    },\n",
    "    vessel_type='cylinder',\n",
    "    allow_vessel_intersection=True,\n",
    "    seed=0,\n",
    "    progressbar=True\n",
    ")\n",
    "\n",
    "print(random_continuous_voxel)"
   ]
  },
  {
   "cell_type": "markdown",
   "metadata": {},
   "source": [
    "> Note: the CBV of voxels created using `from_random` will not be exactly what has been provided to the method. Having more vessels (either by increasing the voxels's `size` or by increasing the `CBV`), will reduce the possibility of having a large error in the CBV."
   ]
  },
  {
   "cell_type": "markdown",
   "metadata": {},
   "source": [
    "## Basic Methods for Voxels"
   ]
  },
  {
   "cell_type": "markdown",
   "metadata": {},
   "source": [
    "The primary methods for voxels mirror that of vessels, namely `vessel_indices_from_positions` and `dBz_vessel_indices_from_positions`.\n",
    "\n",
    "The first takes a positions array and returns an array indicating the vessel index for each position. A vessel index of 0 means extravascular, while any integer above 0 means intravascular. The value of the integer represents which vessel the position occupies."
   ]
  },
  {
   "cell_type": "code",
   "execution_count": null,
   "metadata": {},
   "outputs": [],
   "source": [
    "positions = np.array(\n",
    "    [[0.1, -1.1, 0.1], #(mm)\n",
    "     [ 2.,   2.,  2.],\n",
    "     [1.1,  1.1, 0.1]]\n",
    ")\n",
    "\n",
    "vessel_indices = continuous_voxel.vessel_indices_from_positions(positions)\n",
    "\n",
    "print(f'vessel indices: {vessel_indices}')"
   ]
  },
  {
   "cell_type": "markdown",
   "metadata": {},
   "source": [
    "The second method takes an array of positions and returns both the vessel indices and an array of dBz."
   ]
  },
  {
   "cell_type": "code",
   "execution_count": null,
   "metadata": {},
   "outputs": [],
   "source": [
    "dBz, vessel_indices = continuous_voxel.dBz_vessel_indices_from_positions(positions)\n",
    "\n",
    "print(f'dBz: {dBz}')\n",
    "print(f'vessel indices: {vessel_indices}')"
   ]
  },
  {
   "cell_type": "markdown",
   "metadata": {},
   "source": [
    "In practice, these are rarely be used by the user. Rather, a full simulation will make use of these methods automatically during run time (as shown in later lessons)."
   ]
  },
  {
   "cell_type": "markdown",
   "metadata": {},
   "source": [
    "A more practical method is `get_CBV`, which calculates an fairly accurate approximation of the CBV. This approximation is very accurate for large, populated voxels."
   ]
  },
  {
   "cell_type": "code",
   "execution_count": null,
   "metadata": {},
   "outputs": [],
   "source": [
    "CBV = continuous_voxel.get_CBV()\n",
    "\n",
    "print(f'CBV: {CBV}')"
   ]
  },
  {
   "cell_type": "markdown",
   "metadata": {},
   "source": [
    "### Visualizing Continuous Voxels\n",
    "\n",
    "All voxels can be visualized by using the `show` method. For 3D voxels, this will open a window running Mayavi, a 3D plotting package. For 2D voxels, this will open a window running Matplotlib, another plotting package. The `show` method for 3D voxels takes camera position settings so that repeatable voxel views can be generated:\n",
    "- `azimuth`: float, the azimuth angle of the camera from the voxel.\n",
    "- `elevation`: float, the elevation angle of the camera from the voxel.\n",
    "- `distance`: float, distance from the center of the voxel to the camera (mm).\n",
    "\n",
    "These all have default values, so we can choose to omit these parameters.\n",
    "\n",
    "These parameters do not exist for the 2D continuous voxel `show` method as it will always show a 2D image of the whole voxel."
   ]
  },
  {
   "cell_type": "code",
   "execution_count": null,
   "metadata": {},
   "outputs": [],
   "source": [
    "continuous_voxel.show()"
   ]
  },
  {
   "cell_type": "markdown",
   "metadata": {},
   "source": [
    "## Creating Discrete Voxels"
   ]
  },
  {
   "cell_type": "markdown",
   "metadata": {},
   "source": [
    "Discrete voxels are objects defined by 5 variables:\n",
    "- `N` : int, the number of discrete points along the voxel edges. Therefore a 3D discrete voxel is represented on a (N,N,N) grid and a 2D discrete voxel is represented on a (N,N) grid.\n",
    "- `size` : float, the side length of the voxel (in mm). \n",
    "- `vessel_index_grid` : np.ndarray, an integer array of shape (N,N,N) (or (N,N) in 2D). It serves as a discretized representation of the voxel space, indicating where the intravascular and extravascular spaces are located. A value of 0 represents the extravascular space and positive integers (1,2,3...) represent intravascular space. Different positive integers represent different vessels, or vessel types, which can be associated with different properties. The integer associated to a specific vessel is called its 'vessel index'.\n",
    "- `permeation_probability_list` : List[float], a list of probabilities (between 0 and 1) which indicate the probability for Monte Carlo spins to permeate in and out of the vessels. The first item in the list corresponds to the permeation probability of all vessels with a vessel index of 1, the second item in the list corresponds to the permeation probability of all vessels with a vessel index of 2, and so on for any additional vessel index. The extravascular space does not have a permeation probability, so a vessel index of 0 does not have an associated permeation probability in the list.\n",
    "- `dBz_grid` : np.ndarray, a float array of shape (N,N,N) (or (N,N) in 2D). It represents the magnetic field offset space (in Tesla).\n",
    "\n",
    "As a result, the default constructor requires these parameters (excluding `N` as it can be inferred from both `vessel_index_grid` and `dBz_grid`). However it can be difficult to manually generate `dBz_grid` or even `vessel_index_grid`, so multiple alternate constructors are provided to generate the discrete voxel."
   ]
  },
  {
   "cell_type": "markdown",
   "metadata": {},
   "source": [
    "### Converting Continuous Voxels to Discrete Voxels\n",
    "\n",
    "One of the ways to create discrete voxels is by using the `from_continuous_anaytical` class method, which takes for argument `N` and a continuous voxel (`ContinuousVoxel3D` for `DiscreteVoxel3D`, and `ContinuousVoxel2D` for `DiscreteVoxel2D`). We will use the continuous voxel we created earlier to show this:"
   ]
  },
  {
   "cell_type": "code",
   "execution_count": null,
   "metadata": {},
   "outputs": [],
   "source": [
    "discrete_voxel = BOLDgeometry.DiscreteVoxel3D.from_continuous_analytical(\n",
    "    N=100, \n",
    "    voxel=continuous_voxel\n",
    ")"
   ]
  },
  {
   "cell_type": "markdown",
   "metadata": {},
   "source": [
    "### Visualizing Discrete Voxels\n",
    "\n",
    "Much like continuous voxels, discrete voxels can be visualized using the `show` method. Although there is an additional parameter:\n",
    "- `show_dBz`: bool, if True, will show the dBz field offset rather than the vessel mask. By default, False.\n",
    "- `azimuth`: float, the azimuth angle of the camera from the voxel.\n",
    "- `elevation`: float, the elevation angle of the camera from the voxel.\n",
    "- `distance`: float, distance from the center of the voxel to the camera (mm).\n",
    "\n",
    "This additional parameter is found in both the 2D and 3D discrete voxels."
   ]
  },
  {
   "cell_type": "code",
   "execution_count": null,
   "metadata": {},
   "outputs": [],
   "source": [
    "discrete_voxel.show(show_dBz=False)"
   ]
  },
  {
   "cell_type": "code",
   "execution_count": null,
   "metadata": {},
   "outputs": [],
   "source": [
    "discrete_voxel.show(show_dBz=True)"
   ]
  },
  {
   "cell_type": "markdown",
   "metadata": {},
   "source": [
    "We can use also use the same methods as shown for continuous voxels:"
   ]
  },
  {
   "cell_type": "code",
   "execution_count": null,
   "metadata": {},
   "outputs": [],
   "source": [
    "CBV = discrete_voxel.get_CBV()\n",
    "\n",
    "print(f'CBV: {CBV}')\n",
    "\n",
    "positions = np.array(\n",
    "    [[0.1, -1.1, 0.1], #(mm)\n",
    "     [ 2.,   2.,  2.],\n",
    "     [1.1,  1.1, 0.1]]\n",
    ")\n",
    "\n",
    "dBz, vessel_indices = discrete_voxel.dBz_vessel_indices_from_positions(positions)\n",
    "\n",
    "print(f'dBz: {dBz}')\n",
    "print(f'vessel indices: {vessel_indices}')"
   ]
  },
  {
   "cell_type": "markdown",
   "metadata": {},
   "source": [
    "The previous method of converting a continuous voxel into a discrete voxel used the analytical equations to determine the magnetic field offset, since the continuous voxel can provide them. However, we can also use FFT methods to calculate the magnetic field offset `dBz_grid` from a pre-generated `vessel_index_grid`. This allows the discrete voxels to accomodate arbitrary perturber geometry. Using the `from_continuous_FFT` class method of the discrete voxel we can once again convert continuous voxels to discrete voxels, but this time using the FFT method to calculate the magnetic field offset.\n",
    "\n",
    ">Note: the FFT method is only available for 3D discrete voxels, currently.\n",
    "\n",
    "This method has additional parameters, which are used during the FFT step and can help improve the accuracy of result. The additional parameters are:\n",
    "- `padding` : int, amount of zero padding to add to each side of the voxel before the FFT step. The default is 0, which will cause wrapping of the field offset. Using a value of N/2 will completely remove the wrapping effect but is more computationally demanding.\n",
    "- `extend` : bool, if True, will extend the vessels to the zero padding, but is more computationally demanding. Doing so creates a more accurate representation of the continuous voxel (e.g. infinite cylinders cannot be infinite in the discrete space, but extending the vessels will make them \"more\" infinite). Default is False."
   ]
  },
  {
   "cell_type": "code",
   "execution_count": null,
   "metadata": {},
   "outputs": [],
   "source": [
    "discrete_voxel_FFT = BOLDgeometry.DiscreteVoxel3D.from_continuous_FFT(\n",
    "    N=100, \n",
    "    voxel=continuous_voxel,\n",
    "    padding=50, #to remove wrapping effects\n",
    "    extend=True\n",
    ")"
   ]
  },
  {
   "cell_type": "markdown",
   "metadata": {},
   "source": [
    "Once again we visualize the voxel with `show`."
   ]
  },
  {
   "cell_type": "code",
   "execution_count": null,
   "metadata": {},
   "outputs": [],
   "source": [
    "discrete_voxel_FFT.show(show_dBz=False)"
   ]
  },
  {
   "cell_type": "code",
   "execution_count": null,
   "metadata": {},
   "outputs": [],
   "source": [
    "discrete_voxel_FFT.show(show_dBz=True)"
   ]
  },
  {
   "cell_type": "markdown",
   "metadata": {},
   "source": [
    "A disadvantage of FFT is that it creates a noise around the vessel edges, unlike the analytical method."
   ]
  },
  {
   "cell_type": "markdown",
   "metadata": {},
   "source": [
    "### Creating a Discrete Voxel from User-Defined Perturber Geometry\n",
    "\n",
    "The FFT method can also work with user-defined perturber geometries, as long as a `vessel_index_grid` is provided, along with some additional parameters. For this example we will manually make two spheres positioned in the voxel."
   ]
  },
  {
   "cell_type": "code",
   "execution_count": null,
   "metadata": {},
   "outputs": [],
   "source": [
    "N = 100\n",
    "size = 5.0\n",
    "\n",
    "sphere_radius = 0.8\n",
    "spatial_range = np.linspace(-size/2, size/2, N)\n",
    "X, Y, Z = np.meshgrid(spatial_range, spatial_range, spatial_range)\n",
    "\n",
    "sphere1_mask = np.sqrt((X+1)**2 + (Y+1)**2 + Z**2) < sphere_radius\n",
    "sphere2_mask = np.sqrt((X-1)**2 + (Y-1)**2 + Z**2) < sphere_radius\n",
    "\n",
    "vessel_index_grid = np.zeros((N, N, N), dtype=int)\n",
    "vessel_index_grid[sphere1_mask] = 1 # we assign the first sphere a vessel index of 1\n",
    "vessel_index_grid[sphere2_mask] = 2 # we assign the second sphere a vessel index of 2"
   ]
  },
  {
   "cell_type": "markdown",
   "metadata": {},
   "source": [
    ">Note: Different vessels can have the same vessel index. This index is used to assign parameters to the vessels (such as magnetic susceptibility and permeation probability), so vessels with the same parameters can share the same index.\n",
    "\n",
    "Now that we made our `vessel_index_grid`, we can create a 3D discrete voxel with it, using the `from_vessel_index_grid_FFT` class method. This method has additional arguments to assign parameters to the vessels:\n",
    "- `dchis` : Union[List[float], np.ndarray], The susceptibility difference between the intravascular and extravascular space. Can be a list of magnetic susceptibility differences where the first item in the list corresponds to the magnetic susceptibility difference of of all vessels with a vessel index of 1, the second item in the list corresponds to the magnetic susceptibility difference of all vessels with a vessel index of 2, and so on for any additional vessel index. Can also be a float array of shape (N, N, N), indicating the magnetic susceptibility difference at each point in space. Units are in cgs.\n",
    "- `permeation_probability_list` : List[float], a list of probabilities (between 0 and 1) which indicate the probability for Monte Carlo spins to permeate in and out of the vessels. The first item in the list corresponds to the permeation probability of all vessels with a vessel index of 1, the second item in the list corresponds to the permeation probability of all vessels with a vessel index of 2, and so on for any additional vessel index.\n",
    "- `size` : float, the side length of the voxel (in mm). \n",
    "- `B0` : float, the B0 magnetic field strength (in Tesla).\n",
    "- `padding` : int, amount of zero padding to add to each side of the voxel before the FFT step. The default is 0, which will cause wrapping of the field offset. Using a value of N/2 will completely remove the wrapping effect but is more computationally demanding.\n",
    "\n",
    "We see that the `dchis` argument has 2 possible inputs, either a list or an array. Using the list can be more convenient with voxels containing a small number of different susceptibilities. Using the array is more convenient when we have direct access to the susceptibility grid.\n",
    "\n",
    "First we will use the list option:"
   ]
  },
  {
   "cell_type": "code",
   "execution_count": null,
   "metadata": {},
   "outputs": [],
   "source": [
    "spheres_voxel_FFT = BOLDgeometry.DiscreteVoxel3D.from_vessel_index_grid_FFT(\n",
    "    vessel_index_grid=vessel_index_grid,\n",
    "    dchis=[3e-8, 4e-8],\n",
    "    permeation_probability_list=[0., 0.4],\n",
    "    size=size,\n",
    "    B0=3,\n",
    "    padding=int(N/2)\n",
    ")"
   ]
  },
  {
   "cell_type": "code",
   "execution_count": null,
   "metadata": {},
   "outputs": [],
   "source": [
    "spheres_voxel_FFT.show(show_dBz=False)"
   ]
  },
  {
   "cell_type": "code",
   "execution_count": null,
   "metadata": {},
   "outputs": [],
   "source": [
    "spheres_voxel_FFT.show(show_dBz=True)"
   ]
  },
  {
   "cell_type": "markdown",
   "metadata": {},
   "source": [
    "Now we can try using the array option. We will first need to create the susceptibility grid, although for most use cases of this option the susceptibility grid will already be generated externally. We then give the function the array instead of a list, which produces the same result."
   ]
  },
  {
   "cell_type": "code",
   "execution_count": null,
   "metadata": {},
   "outputs": [],
   "source": [
    "sphere1_susceptibility = 3e-8\n",
    "sphere2_susceptibility = 4e-8\n",
    "\n",
    "# creating an array of zeros with the same shape as the vessel index grid\n",
    "# we also specify the dtype to be float\n",
    "dchi_grid = np.zeros_like(vessel_index_grid, dtype=float)\n",
    "\n",
    "# assign the suscpetibilities of each sphere in the susceptibility grid\n",
    "dchi_grid[vessel_index_grid == 1] = sphere1_susceptibility\n",
    "dchi_grid[vessel_index_grid == 2] = sphere2_susceptibility\n",
    "\n",
    "spheres_voxel_FFT = BOLDgeometry.DiscreteVoxel3D.from_vessel_index_grid_FFT(\n",
    "    vessel_index_grid=vessel_index_grid,\n",
    "    dchis=dchi_grid,\n",
    "    permeation_probability_list=[0., 0.4],\n",
    "    size=size,\n",
    "    B0=3,\n",
    "    padding=int(N/2)\n",
    ")"
   ]
  },
  {
   "cell_type": "code",
   "execution_count": null,
   "metadata": {},
   "outputs": [],
   "source": [
    "spheres_voxel_FFT.show(show_dBz=True)"
   ]
  }
 ],
 "metadata": {
  "kernelspec": {
   "display_name": ".venv",
   "language": "python",
   "name": "python3"
  },
  "language_info": {
   "codemirror_mode": {
    "name": "ipython",
    "version": 3
   },
   "file_extension": ".py",
   "mimetype": "text/x-python",
   "name": "python",
   "nbconvert_exporter": "python",
   "pygments_lexer": "ipython3",
   "version": "3.10.4"
  },
  "orig_nbformat": 4
 },
 "nbformat": 4,
 "nbformat_minor": 2
}
